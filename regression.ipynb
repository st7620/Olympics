{
 "cells": [
  {
   "cell_type": "code",
   "execution_count": 56,
   "metadata": {},
   "outputs": [],
   "source": [
    "# Import libraries for data preprocessing\n",
    "import numpy as np\n",
    "import pandas as pd\n",
    "from scipy.stats import zscore\n",
    "from sklearn.preprocessing import OrdinalEncoder\n",
    "\n",
    "# Import libraries for data visualization\n",
    "import matplotlib.pyplot as plt\n",
    "import seaborn as sns\n",
    "import plotly.express as px\n",
    "import plotly.graph_objects as go\n",
    "import altair as alt\n",
    "\n",
    "# Import libraries for machine learning\n",
    "from sklearn.model_selection import train_test_split, GridSearchCV, cross_val_score\n",
    "from sklearn.linear_model import LinearRegression, LassoCV, RidgeCV, ElasticNetCV\n",
    "from sklearn.tree import DecisionTreeRegressor\n",
    "from sklearn.neighbors import KNeighborsRegressor\n",
    "from sklearn.svm import SVR\n",
    "from sklearn.metrics import mean_squared_error, r2_score"
   ]
  },
  {
   "cell_type": "code",
   "execution_count": 122,
   "metadata": {},
   "outputs": [],
   "source": [
    "df = pd.read_csv('Datasets\\\\final.csv')\n",
    "countries = df['Country'].unique()"
   ]
  },
  {
   "cell_type": "code",
   "execution_count": 123,
   "metadata": {},
   "outputs": [],
   "source": [
    "# Encode the years and countries as ordinal values\n",
    "to_encode = [\"Year\", \"Country\"]\n",
    "encoder = OrdinalEncoder()\n",
    "df[to_encode] = encoder.fit_transform(df[to_encode])"
   ]
  },
  {
   "cell_type": "code",
   "execution_count": 124,
   "metadata": {},
   "outputs": [],
   "source": [
    "# Separate test data from training data\n",
    "test = df[df[\"Year\"]==10.0]\n",
    "test = test.drop(columns = [\"gold\", \"silver\", \"bronze\", \"total\"])\n",
    "df = df.drop(test.index)"
   ]
  },
  {
   "cell_type": "code",
   "execution_count": 125,
   "metadata": {},
   "outputs": [
    {
     "data": {
      "text/html": [
       "<div>\n",
       "<style scoped>\n",
       "    .dataframe tbody tr th:only-of-type {\n",
       "        vertical-align: middle;\n",
       "    }\n",
       "\n",
       "    .dataframe tbody tr th {\n",
       "        vertical-align: top;\n",
       "    }\n",
       "\n",
       "    .dataframe thead th {\n",
       "        text-align: right;\n",
       "    }\n",
       "</style>\n",
       "<table border=\"1\" class=\"dataframe\">\n",
       "  <thead>\n",
       "    <tr style=\"text-align: right;\">\n",
       "      <th></th>\n",
       "      <th>Country</th>\n",
       "      <th>GDP_share</th>\n",
       "      <th>Population</th>\n",
       "      <th>Number of Athletes</th>\n",
       "      <th>Year</th>\n",
       "    </tr>\n",
       "  </thead>\n",
       "  <tbody>\n",
       "    <tr>\n",
       "      <th>10</th>\n",
       "      <td>0.0</td>\n",
       "      <td>0.060</td>\n",
       "      <td>38972230.0</td>\n",
       "      <td>5</td>\n",
       "      <td>10.0</td>\n",
       "    </tr>\n",
       "    <tr>\n",
       "      <th>21</th>\n",
       "      <td>1.0</td>\n",
       "      <td>0.030</td>\n",
       "      <td>2837849.0</td>\n",
       "      <td>9</td>\n",
       "      <td>10.0</td>\n",
       "    </tr>\n",
       "    <tr>\n",
       "      <th>32</th>\n",
       "      <td>2.0</td>\n",
       "      <td>0.416</td>\n",
       "      <td>43451666.0</td>\n",
       "      <td>44</td>\n",
       "      <td>10.0</td>\n",
       "    </tr>\n",
       "    <tr>\n",
       "      <th>43</th>\n",
       "      <td>3.0</td>\n",
       "      <td>0.003</td>\n",
       "      <td>77700.0</td>\n",
       "      <td>2</td>\n",
       "      <td>10.0</td>\n",
       "    </tr>\n",
       "    <tr>\n",
       "      <th>54</th>\n",
       "      <td>4.0</td>\n",
       "      <td>0.159</td>\n",
       "      <td>33428486.0</td>\n",
       "      <td>20</td>\n",
       "      <td>10.0</td>\n",
       "    </tr>\n",
       "  </tbody>\n",
       "</table>\n",
       "</div>"
      ],
      "text/plain": [
       "    Country  GDP_share  Population  Number of Athletes  Year\n",
       "10      0.0      0.060  38972230.0                   5  10.0\n",
       "21      1.0      0.030   2837849.0                   9  10.0\n",
       "32      2.0      0.416  43451666.0                  44  10.0\n",
       "43      3.0      0.003     77700.0                   2  10.0\n",
       "54      4.0      0.159  33428486.0                  20  10.0"
      ]
     },
     "execution_count": 125,
     "metadata": {},
     "output_type": "execute_result"
    }
   ],
   "source": [
    "test.head()"
   ]
  },
  {
   "cell_type": "code",
   "execution_count": 126,
   "metadata": {},
   "outputs": [
    {
     "name": "stdout",
     "output_type": "stream",
     "text": [
      "       Country  GDP_share  Population  Number of Athletes      Year\n",
      "0    -1.721191  -0.284579   -0.156772           -0.409099 -1.566699\n",
      "1    -1.721191  -0.284579   -0.174021           -0.531665 -1.218544\n",
      "2    -1.721191  -0.284579   -0.172946           -0.475953 -0.870388\n",
      "3    -1.721191  -0.284579   -0.160072           -0.531665 -0.522233\n",
      "4    -1.721191  -0.284579   -0.121241           -0.509380 -0.174078\n",
      "...        ...        ...         ...                 ...       ...\n",
      "1743  1.721191  -0.255753   -0.161785           -0.353387  0.174078\n",
      "1744  1.721191  -0.266235   -0.159277           -0.397957  0.522233\n",
      "1745  1.721191  -0.273573   -0.156282           -0.386814  0.870388\n",
      "1746  1.721191  -0.268331   -0.150783           -0.453668  1.218544\n",
      "1747  1.721191  -0.267283   -0.141651           -0.186252  1.566699\n",
      "\n",
      "[1590 rows x 5 columns]\n",
      "0      -0.309382\n",
      "1      -0.309382\n",
      "2      -0.309382\n",
      "3      -0.309382\n",
      "4      -0.309382\n",
      "          ...   \n",
      "1743   -0.309382\n",
      "1744   -0.042712\n",
      "1745    0.046178\n",
      "1746   -0.309382\n",
      "1747   -0.309382\n",
      "Name: total, Length: 1590, dtype: float64\n"
     ]
    }
   ],
   "source": [
    "X = df.drop(columns=[\"gold\", \"silver\", \"bronze\", \"total\"])\n",
    "y = df[\"total\"]\n",
    "\n",
    "total_medals_mean = y.mean()\n",
    "total_medals_std = y.std()\n",
    "\n",
    "# Standardize the data\n",
    "X_std = zscore(X)\n",
    "y_std = zscore(y)\n",
    "print(X_std)\n",
    "print(y_std)"
   ]
  },
  {
   "cell_type": "code",
   "execution_count": 127,
   "metadata": {},
   "outputs": [
    {
     "data": {
      "text/html": [
       "<div>\n",
       "<style scoped>\n",
       "    .dataframe tbody tr th:only-of-type {\n",
       "        vertical-align: middle;\n",
       "    }\n",
       "\n",
       "    .dataframe tbody tr th {\n",
       "        vertical-align: top;\n",
       "    }\n",
       "\n",
       "    .dataframe thead th {\n",
       "        text-align: right;\n",
       "    }\n",
       "</style>\n",
       "<table border=\"1\" class=\"dataframe\">\n",
       "  <thead>\n",
       "    <tr style=\"text-align: right;\">\n",
       "      <th></th>\n",
       "      <th>Country</th>\n",
       "      <th>GDP_share</th>\n",
       "      <th>Population</th>\n",
       "      <th>Number of Athletes</th>\n",
       "      <th>Year</th>\n",
       "    </tr>\n",
       "  </thead>\n",
       "  <tbody>\n",
       "    <tr>\n",
       "      <th>10</th>\n",
       "      <td>-1.720650</td>\n",
       "      <td>-0.253053</td>\n",
       "      <td>0.046902</td>\n",
       "      <td>-0.475803</td>\n",
       "      <td>1.914252</td>\n",
       "    </tr>\n",
       "    <tr>\n",
       "      <th>21</th>\n",
       "      <td>-1.698870</td>\n",
       "      <td>-0.268771</td>\n",
       "      <td>-0.230903</td>\n",
       "      <td>-0.431248</td>\n",
       "      <td>1.914252</td>\n",
       "    </tr>\n",
       "    <tr>\n",
       "      <th>32</th>\n",
       "      <td>-1.677089</td>\n",
       "      <td>-0.066530</td>\n",
       "      <td>0.081341</td>\n",
       "      <td>-0.041389</td>\n",
       "      <td>1.914252</td>\n",
       "    </tr>\n",
       "    <tr>\n",
       "      <th>43</th>\n",
       "      <td>-1.655309</td>\n",
       "      <td>-0.282917</td>\n",
       "      <td>-0.252124</td>\n",
       "      <td>-0.509220</td>\n",
       "      <td>1.914252</td>\n",
       "    </tr>\n",
       "    <tr>\n",
       "      <th>54</th>\n",
       "      <td>-1.633529</td>\n",
       "      <td>-0.201183</td>\n",
       "      <td>0.004281</td>\n",
       "      <td>-0.308721</td>\n",
       "      <td>1.914252</td>\n",
       "    </tr>\n",
       "  </tbody>\n",
       "</table>\n",
       "</div>"
      ],
      "text/plain": [
       "     Country  GDP_share  Population  Number of Athletes      Year\n",
       "10 -1.720650  -0.253053    0.046902           -0.475803  1.914252\n",
       "21 -1.698870  -0.268771   -0.230903           -0.431248  1.914252\n",
       "32 -1.677089  -0.066530    0.081341           -0.041389  1.914252\n",
       "43 -1.655309  -0.282917   -0.252124           -0.509220  1.914252\n",
       "54 -1.633529  -0.201183    0.004281           -0.308721  1.914252"
      ]
     },
     "execution_count": 127,
     "metadata": {},
     "output_type": "execute_result"
    }
   ],
   "source": [
    "test_std = (test - X.mean()) / X.std()\n",
    "test_std.head()"
   ]
  },
  {
   "cell_type": "code",
   "execution_count": 12,
   "metadata": {},
   "outputs": [
    {
     "name": "stdout",
     "output_type": "stream",
     "text": [
      "(1399, 5)\n",
      "(350, 5)\n",
      "(1399,)\n",
      "(350,)\n"
     ]
    }
   ],
   "source": [
    "X_train, X_test, y_train, y_test = train_test_split(X_std, y_std, test_size=0.2, random_state=42)\n",
    "print(X_train.shape)\n",
    "print(X_test.shape)\n",
    "print(y_train.shape)\n",
    "print(y_test.shape)"
   ]
  },
  {
   "cell_type": "code",
   "execution_count": 14,
   "metadata": {},
   "outputs": [
    {
     "name": "stdout",
     "output_type": "stream",
     "text": [
      "[LR] Root Mean Squared Error: 0.6460806424811998\n",
      "[LR] R2: 0.769918855448113\n"
     ]
    },
    {
     "name": "stderr",
     "output_type": "stream",
     "text": [
      "c:\\Users\\sonson\\Desktop\\Olympics\\.venv\\Lib\\site-packages\\sklearn\\metrics\\_regression.py:492: FutureWarning: 'squared' is deprecated in version 1.4 and will be removed in 1.6. To calculate the root mean squared error, use the function'root_mean_squared_error'.\n",
      "  warnings.warn(\n"
     ]
    }
   ],
   "source": [
    "lr_model = LinearRegression()\n",
    "lr_model.fit(X_train, y_train)\n",
    "y_lr_pred = lr_model.predict(X_test)\n",
    "lr_rmse = mean_squared_error(y_test, y_lr_pred, squared=False)\n",
    "lr_r2 = r2_score(y_test, y_lr_pred)\n",
    "\n",
    "print('[LR] Root Mean Squared Error: {0}'.format(lr_rmse))\n",
    "print('[LR] R2: {0}'.format(lr_r2))"
   ]
  },
  {
   "cell_type": "code",
   "execution_count": 15,
   "metadata": {},
   "outputs": [
    {
     "name": "stdout",
     "output_type": "stream",
     "text": [
      "[Lasso] Root Mean Squared Error: 0.6472043341777091\n",
      "[Lasso] R2: 0.7691178250908691\n"
     ]
    },
    {
     "name": "stderr",
     "output_type": "stream",
     "text": [
      "c:\\Users\\sonson\\Desktop\\Olympics\\.venv\\Lib\\site-packages\\sklearn\\metrics\\_regression.py:492: FutureWarning: 'squared' is deprecated in version 1.4 and will be removed in 1.6. To calculate the root mean squared error, use the function'root_mean_squared_error'.\n",
      "  warnings.warn(\n"
     ]
    }
   ],
   "source": [
    "lasso_model = LassoCV(cv=5)\n",
    "lasso_model.fit(X_train, y_train)\n",
    "y_lasso_pred = lasso_model.predict(X_test)\n",
    "lasso_rmse = mean_squared_error(y_test, y_lasso_pred, squared=False)\n",
    "lasso_r2 = r2_score(y_test, y_lasso_pred)\n",
    "\n",
    "print('[Lasso] Root Mean Squared Error: {0}'.format(lasso_rmse))\n",
    "print('[Lasso] R2: {0}'.format(lasso_r2))"
   ]
  },
  {
   "cell_type": "code",
   "execution_count": 16,
   "metadata": {},
   "outputs": [
    {
     "name": "stdout",
     "output_type": "stream",
     "text": [
      "[Ridge] Root Mean Squared Error: 0.6487629034756984\n",
      "[Ridge] R2: 0.7680044853531142\n"
     ]
    },
    {
     "name": "stderr",
     "output_type": "stream",
     "text": [
      "c:\\Users\\sonson\\Desktop\\Olympics\\.venv\\Lib\\site-packages\\sklearn\\metrics\\_regression.py:492: FutureWarning: 'squared' is deprecated in version 1.4 and will be removed in 1.6. To calculate the root mean squared error, use the function'root_mean_squared_error'.\n",
      "  warnings.warn(\n"
     ]
    }
   ],
   "source": [
    "ridge_model = RidgeCV(cv=5)\n",
    "ridge_model.fit(X_train, y_train)\n",
    "y_ridge_pred = ridge_model.predict(X_test)\n",
    "ridge_rmse = mean_squared_error(y_test, y_ridge_pred, squared=False)\n",
    "ridge_r2 = r2_score(y_test, y_ridge_pred)\n",
    "\n",
    "print('[Ridge] Root Mean Squared Error: {0}'.format(ridge_rmse))\n",
    "print('[Ridge] R2: {0}'.format(ridge_r2))"
   ]
  },
  {
   "cell_type": "code",
   "execution_count": 17,
   "metadata": {},
   "outputs": [
    {
     "name": "stdout",
     "output_type": "stream",
     "text": [
      "[EN] Root Mean Squared Error: 0.6477062931835007\n",
      "[EN] R2: 0.7687595508236231\n"
     ]
    },
    {
     "name": "stderr",
     "output_type": "stream",
     "text": [
      "c:\\Users\\sonson\\Desktop\\Olympics\\.venv\\Lib\\site-packages\\sklearn\\metrics\\_regression.py:492: FutureWarning: 'squared' is deprecated in version 1.4 and will be removed in 1.6. To calculate the root mean squared error, use the function'root_mean_squared_error'.\n",
      "  warnings.warn(\n"
     ]
    }
   ],
   "source": [
    "en_model = ElasticNetCV(cv=5)\n",
    "en_model.fit(X_train, y_train)\n",
    "y_en_pred = en_model.predict(X_test)\n",
    "en_rmse = mean_squared_error(y_test, y_en_pred, squared=False)\n",
    "en_r2 = r2_score(y_test, y_en_pred)\n",
    "\n",
    "print('[EN] Root Mean Squared Error: {0}'.format(en_rmse))\n",
    "print('[EN] R2: {0}'.format(en_r2))"
   ]
  },
  {
   "cell_type": "code",
   "execution_count": 44,
   "metadata": {},
   "outputs": [
    {
     "name": "stdout",
     "output_type": "stream",
     "text": [
      "Running Grid Search...\n",
      "Done\n",
      "{'n_neighbors': 4}\n"
     ]
    }
   ],
   "source": [
    "param_grid_KNN = dict(n_neighbors = list(range(1,10))) \n",
    "print('Running Grid Search...')\n",
    "model_KNN = KNeighborsRegressor()\n",
    "grid_KNN = GridSearchCV(model_KNN, param_grid_KNN, cv=5)\n",
    "grid_search_KNN = grid_KNN.fit(X_train, y_train)\n",
    "print('Done')\n",
    "print(grid_search_KNN.best_params_)"
   ]
  },
  {
   "cell_type": "code",
   "execution_count": 113,
   "metadata": {},
   "outputs": [
    {
     "name": "stdout",
     "output_type": "stream",
     "text": [
      "[KNN] Root Mean Squared Error: 0.44688968261488365\n",
      "[KNN] R2: 0.8899200490924424\n"
     ]
    },
    {
     "name": "stderr",
     "output_type": "stream",
     "text": [
      "c:\\Users\\sonson\\Desktop\\Olympics\\.venv\\Lib\\site-packages\\sklearn\\metrics\\_regression.py:492: FutureWarning:\n",
      "\n",
      "'squared' is deprecated in version 1.4 and will be removed in 1.6. To calculate the root mean squared error, use the function'root_mean_squared_error'.\n",
      "\n"
     ]
    }
   ],
   "source": [
    "best_model_KNN = KNeighborsRegressor(n_neighbors=4)\n",
    "best_model_KNN.fit(X_train, y_train)\n",
    "y_KNN_pred = best_model_KNN.predict(X_test)\n",
    "KNN_rmse = mean_squared_error(y_test, y_KNN_pred, squared=False)\n",
    "KNN_r2 = r2_score(y_test, y_KNN_pred)\n",
    "\n",
    "print('[KNN] Root Mean Squared Error: {0}'.format(KNN_rmse))\n",
    "print('[KNN] R2: {0}'.format(KNN_r2))"
   ]
  },
  {
   "cell_type": "code",
   "execution_count": 128,
   "metadata": {},
   "outputs": [
    {
     "ename": "ValueError",
     "evalue": "Shape of the passed X data is not correct. Expected 2 columns, got 1.",
     "output_type": "error",
     "traceback": [
      "\u001b[1;31m---------------------------------------------------------------------------\u001b[0m",
      "\u001b[1;31mValueError\u001b[0m                                Traceback (most recent call last)",
      "Cell \u001b[1;32mIn[128], line 6\u001b[0m\n\u001b[0;32m      4\u001b[0m test_pred \u001b[38;5;241m=\u001b[39m test_pred\u001b[38;5;241m.\u001b[39mastype(\u001b[38;5;28mint\u001b[39m)\n\u001b[0;32m      5\u001b[0m test[\u001b[38;5;124m\"\u001b[39m\u001b[38;5;124mtotal\u001b[39m\u001b[38;5;124m\"\u001b[39m] \u001b[38;5;241m=\u001b[39m test_pred\n\u001b[1;32m----> 6\u001b[0m test[\u001b[38;5;124m\"\u001b[39m\u001b[38;5;124mCountry\u001b[39m\u001b[38;5;124m\"\u001b[39m] \u001b[38;5;241m=\u001b[39m \u001b[43mencoder\u001b[49m\u001b[38;5;241;43m.\u001b[39;49m\u001b[43minverse_transform\u001b[49m\u001b[43m(\u001b[49m\u001b[43mtest\u001b[49m\u001b[43m[\u001b[49m\u001b[38;5;124;43m\"\u001b[39;49m\u001b[38;5;124;43mCountry\u001b[39;49m\u001b[38;5;124;43m\"\u001b[39;49m\u001b[43m]\u001b[49m\u001b[38;5;241;43m.\u001b[39;49m\u001b[43mvalues\u001b[49m\u001b[38;5;241;43m.\u001b[39;49m\u001b[43mreshape\u001b[49m\u001b[43m(\u001b[49m\u001b[38;5;241;43m-\u001b[39;49m\u001b[38;5;241;43m1\u001b[39;49m\u001b[43m,\u001b[49m\u001b[43m \u001b[49m\u001b[38;5;241;43m1\u001b[39;49m\u001b[43m)\u001b[49m\u001b[43m)\u001b[49m\n\u001b[0;32m      7\u001b[0m test\u001b[38;5;241m.\u001b[39mto_csv(\u001b[38;5;124m'\u001b[39m\u001b[38;5;124mDatasets\u001b[39m\u001b[38;5;130;01m\\\\\u001b[39;00m\u001b[38;5;124mpredictions.csv\u001b[39m\u001b[38;5;124m'\u001b[39m, index\u001b[38;5;241m=\u001b[39m\u001b[38;5;28;01mFalse\u001b[39;00m)\n",
      "File \u001b[1;32mc:\\Users\\sonson\\Desktop\\Olympics\\.venv\\Lib\\site-packages\\sklearn\\preprocessing\\_encoders.py:1620\u001b[0m, in \u001b[0;36mOrdinalEncoder.inverse_transform\u001b[1;34m(self, X)\u001b[0m\n\u001b[0;32m   1616\u001b[0m msg \u001b[38;5;241m=\u001b[39m (\n\u001b[0;32m   1617\u001b[0m     \u001b[38;5;124m\"\u001b[39m\u001b[38;5;124mShape of the passed X data is not correct. Expected \u001b[39m\u001b[38;5;132;01m{0}\u001b[39;00m\u001b[38;5;124m columns, got \u001b[39m\u001b[38;5;132;01m{1}\u001b[39;00m\u001b[38;5;124m.\u001b[39m\u001b[38;5;124m\"\u001b[39m\n\u001b[0;32m   1618\u001b[0m )\n\u001b[0;32m   1619\u001b[0m \u001b[38;5;28;01mif\u001b[39;00m X\u001b[38;5;241m.\u001b[39mshape[\u001b[38;5;241m1\u001b[39m] \u001b[38;5;241m!=\u001b[39m n_features:\n\u001b[1;32m-> 1620\u001b[0m     \u001b[38;5;28;01mraise\u001b[39;00m \u001b[38;5;167;01mValueError\u001b[39;00m(msg\u001b[38;5;241m.\u001b[39mformat(n_features, X\u001b[38;5;241m.\u001b[39mshape[\u001b[38;5;241m1\u001b[39m]))\n\u001b[0;32m   1622\u001b[0m \u001b[38;5;66;03m# create resulting array of appropriate dtype\u001b[39;00m\n\u001b[0;32m   1623\u001b[0m dt \u001b[38;5;241m=\u001b[39m np\u001b[38;5;241m.\u001b[39mresult_type(\u001b[38;5;241m*\u001b[39m[cat\u001b[38;5;241m.\u001b[39mdtype \u001b[38;5;28;01mfor\u001b[39;00m cat \u001b[38;5;129;01min\u001b[39;00m \u001b[38;5;28mself\u001b[39m\u001b[38;5;241m.\u001b[39mcategories_])\n",
      "\u001b[1;31mValueError\u001b[0m: Shape of the passed X data is not correct. Expected 2 columns, got 1."
     ]
    }
   ],
   "source": [
    "test_pred = best_model_KNN.predict(test_std)\n",
    "test_pred = test_pred * total_medals_std + total_medals_mean\n",
    "test_pred = np.round(test_pred)\n",
    "test_pred = test_pred.astype(int)\n",
    "test[\"total\"] = test_pred\n",
    "test[\"Country\"] = countries\n",
    "test.to_csv('Datasets\\\\predictions.csv', index=False)"
   ]
  },
  {
   "cell_type": "code",
   "execution_count": 43,
   "metadata": {},
   "outputs": [
    {
     "name": "stdout",
     "output_type": "stream",
     "text": [
      "Running Grid Search...\n",
      "Done\n",
      "{'max_depth': 2}\n"
     ]
    }
   ],
   "source": [
    "param_grid_DT = dict(max_depth = [2, 4, 8, 16])\n",
    "print('Running Grid Search...')\n",
    "model_DT = DecisionTreeRegressor()\n",
    "grid_DT = GridSearchCV(model_DT, param_grid_DT, cv=5)\n",
    "grid_search_DT = grid_DT.fit(X_train, y_train)\n",
    "print('Done')\n",
    "print(grid_search_DT.best_params_)"
   ]
  },
  {
   "cell_type": "code",
   "execution_count": 45,
   "metadata": {},
   "outputs": [
    {
     "name": "stdout",
     "output_type": "stream",
     "text": [
      "[DT] Root Mean Squared Error: 0.5756174594179216\n",
      "[DT] R2: 0.8173685835153315\n"
     ]
    },
    {
     "name": "stderr",
     "output_type": "stream",
     "text": [
      "c:\\Users\\sonson\\Desktop\\Olympics\\.venv\\Lib\\site-packages\\sklearn\\metrics\\_regression.py:492: FutureWarning: 'squared' is deprecated in version 1.4 and will be removed in 1.6. To calculate the root mean squared error, use the function'root_mean_squared_error'.\n",
      "  warnings.warn(\n"
     ]
    }
   ],
   "source": [
    "best_model_DT = DecisionTreeRegressor(max_depth=2)\n",
    "best_model_DT.fit(X_train, y_train)\n",
    "y_DT_pred = best_model_DT.predict(X_test)\n",
    "DT_rmse = mean_squared_error(y_test, y_DT_pred, squared=False)\n",
    "DT_r2 = r2_score(y_test, y_DT_pred)\n",
    "\n",
    "print('[DT] Root Mean Squared Error: {0}'.format(DT_rmse))\n",
    "print('[DT] R2: {0}'.format(DT_r2))"
   ]
  },
  {
   "cell_type": "code",
   "execution_count": 46,
   "metadata": {},
   "outputs": [
    {
     "name": "stdout",
     "output_type": "stream",
     "text": [
      "[SV] Root Mean Squared Error: 0.7512194001723674\n",
      "[SV] R2: 0.6889421535695119\n"
     ]
    },
    {
     "name": "stderr",
     "output_type": "stream",
     "text": [
      "c:\\Users\\sonson\\Desktop\\Olympics\\.venv\\Lib\\site-packages\\sklearn\\metrics\\_regression.py:492: FutureWarning: 'squared' is deprecated in version 1.4 and will be removed in 1.6. To calculate the root mean squared error, use the function'root_mean_squared_error'.\n",
      "  warnings.warn(\n"
     ]
    }
   ],
   "source": [
    "model_SV = SVR(kernel='linear')\n",
    "model_SV.fit(X_train, y_train)\n",
    "y_SV_pred = model_SV.predict(X_test)\n",
    "SV_rmse = mean_squared_error(y_test, y_SV_pred, squared=False)\n",
    "SV_r2 = r2_score(y_test, y_SV_pred)\n",
    "\n",
    "print('[SV] Root Mean Squared Error: {0}'.format(SV_rmse))\n",
    "print('[SV] R2: {0}'.format(SV_r2))"
   ]
  },
  {
   "cell_type": "code",
   "execution_count": 48,
   "metadata": {},
   "outputs": [
    {
     "data": {
      "image/png": "[encoded data removed]",
      "text/plain": [
       "<Figure size 640x480 with 1 Axes>"
      ]
     },
     "metadata": {},
     "output_type": "display_data"
    }
   ],
   "source": [
    "RMSE_Results = [lr_rmse, lasso_rmse, ridge_rmse, en_rmse, KNN_rmse, DT_rmse, SV_rmse]\n",
    "R2_Results = [lr_r2, lasso_r2, ridge_r2, en_r2, KNN_r2, DT_r2, SV_r2]\n",
    "labels = ['LR', 'Lasso', 'Ridge', 'EN', 'KNN', 'DT', 'SV']\n",
    "results_df = pd.DataFrame({'Models': labels, 'RMSE': RMSE_Results, 'R2': R2_Results})\n",
    "results_df.to_csv('Datasets\\\\results.csv', index=False)\n",
    "\n",
    "\n",
    "rg= np.arange(7)\n",
    "width = 0.35\n",
    "plt.bar(rg, RMSE_Results, width, label=\"RMSE\")\n",
    "plt.bar(rg+width, R2_Results, width, label='R2')\n",
    "plt.xticks(rg + width/2, labels)\n",
    "plt.xlabel(\"Models\")\n",
    "plt.ylabel(\"RMSE/R2\")\n",
    "plt.ylim([0,1])\n",
    "\n",
    "plt.title('Model Performance')\n",
    "plt.legend(loc='upper left', ncol=2)\n",
    "plt.show()"
   ]
  },
  {
   "cell_type": "code",
   "execution_count": 53,
   "metadata": {},
   "outputs": [
    {
     "data": {
      "text/html": [
       "\n",
       "<style>\n",
       "  #altair-viz-8674b30a2f5148388503b8b9e58d15a7.vega-embed {\n",
       "    width: 100%;\n",
       "    display: flex;\n",
       "  }\n",
       "\n",
       "  #altair-viz-8674b30a2f5148388503b8b9e58d15a7.vega-embed details,\n",
       "  #altair-viz-8674b30a2f5148388503b8b9e58d15a7.vega-embed details summary {\n",
       "    position: relative;\n",
       "  }\n",
       "</style>\n",
       "<div id=\"altair-viz-8674b30a2f5148388503b8b9e58d15a7\"></div>\n",
       "<script type=\"text/javascript\">\n",
       "  var VEGA_DEBUG = (typeof VEGA_DEBUG == \"undefined\") ? {} : VEGA_DEBUG;\n",
       "  (function(spec, embedOpt){\n",
       "    let outputDiv = document.currentScript.previousElementSibling;\n",
       "    if (outputDiv.id !== \"altair-viz-8674b30a2f5148388503b8b9e58d15a7\") {\n",
       "      outputDiv = document.getElementById(\"altair-viz-8674b30a2f5148388503b8b9e58d15a7\");\n",
       "    }\n",
       "    const paths = {\n",
       "      \"vega\": \"https://cdn.jsdelivr.net/npm/vega@5?noext\",\n",
       "      \"vega-lib\": \"https://cdn.jsdelivr.net/npm/vega-lib?noext\",\n",
       "      \"vega-lite\": \"https://cdn.jsdelivr.net/npm/vega-lite@5.17.0?noext\",\n",
       "      \"vega-embed\": \"https://cdn.jsdelivr.net/npm/vega-embed@6?noext\",\n",
       "    };\n",
       "\n",
       "    function maybeLoadScript(lib, version) {\n",
       "      var key = `${lib.replace(\"-\", \"\")}_version`;\n",
       "      return (VEGA_DEBUG[key] == version) ?\n",
       "        Promise.resolve(paths[lib]) :\n",
       "        new Promise(function(resolve, reject) {\n",
       "          var s = document.createElement('script');\n",
       "          document.getElementsByTagName(\"head\")[0].appendChild(s);\n",
       "          s.async = true;\n",
       "          s.onload = () => {\n",
       "            VEGA_DEBUG[key] = version;\n",
       "            return resolve(paths[lib]);\n",
       "          };\n",
       "          s.onerror = () => reject(`Error loading script: ${paths[lib]}`);\n",
       "          s.src = paths[lib];\n",
       "        });\n",
       "    }\n",
       "\n",
       "    function showError(err) {\n",
       "      outputDiv.innerHTML = `<div class=\"error\" style=\"color:red;\">${err}</div>`;\n",
       "      throw err;\n",
       "    }\n",
       "\n",
       "    function displayChart(vegaEmbed) {\n",
       "      vegaEmbed(outputDiv, spec, embedOpt)\n",
       "        .catch(err => showError(`Javascript Error: ${err.message}<br>This usually means there's a typo in your chart specification. See the javascript console for the full traceback.`));\n",
       "    }\n",
       "\n",
       "    if(typeof define === \"function\" && define.amd) {\n",
       "      requirejs.config({paths});\n",
       "      require([\"vega-embed\"], displayChart, err => showError(`Error loading script: ${err.message}`));\n",
       "    } else {\n",
       "      maybeLoadScript(\"vega\", \"5\")\n",
       "        .then(() => maybeLoadScript(\"vega-lite\", \"5.17.0\"))\n",
       "        .then(() => maybeLoadScript(\"vega-embed\", \"6\"))\n",
       "        .catch(showError)\n",
       "        .then(() => displayChart(vegaEmbed));\n",
       "    }\n",
       "  })({\"config\": {\"view\": {\"continuousWidth\": 300, \"continuousHeight\": 300}, \"legend\": {\"orient\": \"top-left\"}}, \"data\": {\"name\": \"data-cc4c65a02b8448a0f8d62767bc4679bd\"}, \"mark\": {\"type\": \"bar\"}, \"encoding\": {\"color\": {\"field\": \"Metric\", \"type\": \"nominal\"}, \"column\": {\"field\": \"Metric\", \"type\": \"nominal\"}, \"x\": {\"axis\": {\"title\": \"Models\"}, \"field\": \"Model\", \"type\": \"nominal\"}, \"y\": {\"axis\": {\"title\": \"RMSE/R2\"}, \"field\": \"Value\", \"scale\": {\"domain\": [0, 1]}, \"type\": \"quantitative\"}}, \"resolve\": {\"scale\": {\"y\": \"shared\"}}, \"title\": \"Model Performance\", \"$schema\": \"https://vega.github.io/schema/vega-lite/v5.17.0.json\", \"datasets\": {\"data-cc4c65a02b8448a0f8d62767bc4679bd\": [{\"Model\": \"LR\", \"Metric\": \"RMSE\", \"Value\": 0.6460806424811998}, {\"Model\": \"Lasso\", \"Metric\": \"RMSE\", \"Value\": 0.6472043341777091}, {\"Model\": \"Ridge\", \"Metric\": \"RMSE\", \"Value\": 0.6487629034756984}, {\"Model\": \"EN\", \"Metric\": \"RMSE\", \"Value\": 0.6477062931835007}, {\"Model\": \"KNN\", \"Metric\": \"RMSE\", \"Value\": 0.44688968261488365}, {\"Model\": \"DT\", \"Metric\": \"RMSE\", \"Value\": 0.5756174594179216}, {\"Model\": \"SV\", \"Metric\": \"RMSE\", \"Value\": 0.7512194001723674}, {\"Model\": \"LR\", \"Metric\": \"R2\", \"Value\": 0.769918855448113}, {\"Model\": \"Lasso\", \"Metric\": \"R2\", \"Value\": 0.7691178250908691}, {\"Model\": \"Ridge\", \"Metric\": \"R2\", \"Value\": 0.7680044853531142}, {\"Model\": \"EN\", \"Metric\": \"R2\", \"Value\": 0.7687595508236231}, {\"Model\": \"KNN\", \"Metric\": \"R2\", \"Value\": 0.8899200490924424}, {\"Model\": \"DT\", \"Metric\": \"R2\", \"Value\": 0.8173685835153315}, {\"Model\": \"SV\", \"Metric\": \"R2\", \"Value\": 0.6889421535695119}]}}, {\"mode\": \"vega-lite\"});\n",
       "</script>"
      ],
      "text/plain": [
       "alt.Chart(...)"
      ]
     },
     "metadata": {},
     "output_type": "display_data"
    }
   ],
   "source": [
    "data = pd.DataFrame({\n",
    "        'Model': np.tile(labels, 2),\n",
    "        'Metric': ['RMSE']*len(labels) + ['R2']*len(labels),\n",
    "        'Value': np.concatenate([RMSE_Results, R2_Results])\n",
    "    })\n",
    "\n",
    "bar_chart = alt.Chart(data).mark_bar().encode(\n",
    "    x=alt.X('Model:N', axis=alt.Axis(title='Models')),\n",
    "    y=alt.Y('Value:Q', axis=alt.Axis(title='RMSE/R2'), scale=alt.Scale(domain=(0, 1))),\n",
    "    color='Metric:N',\n",
    "    column='Metric:N'\n",
    ").properties(\n",
    "    title='Model Performance'\n",
    ").resolve_scale(\n",
    "    y='shared'\n",
    ").configure_legend(\n",
    "    orient='top-left'\n",
    ")\n",
    "bar_chart.show()"
   ]
  },
  {
   "cell_type": "code",
   "execution_count": 60,
   "metadata": {},
   "outputs": [
    {
     "name": "stdout",
     "output_type": "stream",
     "text": [
      "Requirement already satisfied: nbformat in c:\\users\\sonson\\desktop\\olympics\\.venv\\lib\\site-packages (5.10.4)\n",
      "Requirement already satisfied: fastjsonschema>=2.15 in c:\\users\\sonson\\desktop\\olympics\\.venv\\lib\\site-packages (from nbformat) (2.20.0)\n",
      "Requirement already satisfied: jsonschema>=2.6 in c:\\users\\sonson\\desktop\\olympics\\.venv\\lib\\site-packages (from nbformat) (4.23.0)\n",
      "Requirement already satisfied: jupyter-core!=5.0.*,>=4.12 in c:\\users\\sonson\\desktop\\olympics\\.venv\\lib\\site-packages (from nbformat) (5.7.2)\n",
      "Requirement already satisfied: traitlets>=5.1 in c:\\users\\sonson\\desktop\\olympics\\.venv\\lib\\site-packages (from nbformat) (5.14.3)\n",
      "Requirement already satisfied: attrs>=22.2.0 in c:\\users\\sonson\\desktop\\olympics\\.venv\\lib\\site-packages (from jsonschema>=2.6->nbformat) (23.2.0)\n",
      "Requirement already satisfied: jsonschema-specifications>=2023.03.6 in c:\\users\\sonson\\desktop\\olympics\\.venv\\lib\\site-packages (from jsonschema>=2.6->nbformat) (2023.12.1)\n",
      "Requirement already satisfied: referencing>=0.28.4 in c:\\users\\sonson\\desktop\\olympics\\.venv\\lib\\site-packages (from jsonschema>=2.6->nbformat) (0.35.1)\n",
      "Requirement already satisfied: rpds-py>=0.7.1 in c:\\users\\sonson\\desktop\\olympics\\.venv\\lib\\site-packages (from jsonschema>=2.6->nbformat) (0.19.0)\n",
      "Requirement already satisfied: platformdirs>=2.5 in c:\\users\\sonson\\desktop\\olympics\\.venv\\lib\\site-packages (from jupyter-core!=5.0.*,>=4.12->nbformat) (4.2.2)\n",
      "Requirement already satisfied: pywin32>=300 in c:\\users\\sonson\\desktop\\olympics\\.venv\\lib\\site-packages (from jupyter-core!=5.0.*,>=4.12->nbformat) (306)\n"
     ]
    }
   ],
   "source": [
    "!pip install nbformat"
   ]
  },
  {
   "cell_type": "code",
   "execution_count": 62,
   "metadata": {},
   "outputs": [
    {
     "ename": "ValueError",
     "evalue": "Mime type rendering requires nbformat>=4.2.0 but it is not installed",
     "output_type": "error",
     "traceback": [
      "\u001b[1;31m---------------------------------------------------------------------------\u001b[0m",
      "\u001b[1;31mValueError\u001b[0m                                Traceback (most recent call last)",
      "Cell \u001b[1;32mIn[62], line 39\u001b[0m\n\u001b[0;32m     13\u001b[0m fig\u001b[38;5;241m.\u001b[39madd_trace(go\u001b[38;5;241m.\u001b[39mBar(\n\u001b[0;32m     14\u001b[0m     x\u001b[38;5;241m=\u001b[39mrg \u001b[38;5;241m+\u001b[39m width,\n\u001b[0;32m     15\u001b[0m     y\u001b[38;5;241m=\u001b[39mR2_Results,\n\u001b[0;32m     16\u001b[0m     width\u001b[38;5;241m=\u001b[39mwidth,\n\u001b[0;32m     17\u001b[0m     name\u001b[38;5;241m=\u001b[39m\u001b[38;5;124m'\u001b[39m\u001b[38;5;124mR2\u001b[39m\u001b[38;5;124m'\u001b[39m\n\u001b[0;32m     18\u001b[0m ))\n\u001b[0;32m     20\u001b[0m fig\u001b[38;5;241m.\u001b[39mupdate_layout(\n\u001b[0;32m     21\u001b[0m     title\u001b[38;5;241m=\u001b[39m\u001b[38;5;124m'\u001b[39m\u001b[38;5;124mModel Performance\u001b[39m\u001b[38;5;124m'\u001b[39m,\n\u001b[0;32m     22\u001b[0m     xaxis\u001b[38;5;241m=\u001b[39m\u001b[38;5;28mdict\u001b[39m(\n\u001b[1;32m   (...)\u001b[0m\n\u001b[0;32m     36\u001b[0m     )\n\u001b[0;32m     37\u001b[0m )\n\u001b[1;32m---> 39\u001b[0m \u001b[43mfig\u001b[49m\u001b[38;5;241;43m.\u001b[39;49m\u001b[43mshow\u001b[49m\u001b[43m(\u001b[49m\u001b[43m)\u001b[49m\n",
      "File \u001b[1;32mc:\\Users\\sonson\\Desktop\\Olympics\\.venv\\Lib\\site-packages\\plotly\\basedatatypes.py:3410\u001b[0m, in \u001b[0;36mBaseFigure.show\u001b[1;34m(self, *args, **kwargs)\u001b[0m\n\u001b[0;32m   3377\u001b[0m \u001b[38;5;250m\u001b[39m\u001b[38;5;124;03m\"\"\"\u001b[39;00m\n\u001b[0;32m   3378\u001b[0m \u001b[38;5;124;03mShow a figure using either the default renderer(s) or the renderer(s)\u001b[39;00m\n\u001b[0;32m   3379\u001b[0m \u001b[38;5;124;03mspecified by the renderer argument\u001b[39;00m\n\u001b[1;32m   (...)\u001b[0m\n\u001b[0;32m   3406\u001b[0m \u001b[38;5;124;03mNone\u001b[39;00m\n\u001b[0;32m   3407\u001b[0m \u001b[38;5;124;03m\"\"\"\u001b[39;00m\n\u001b[0;32m   3408\u001b[0m \u001b[38;5;28;01mimport\u001b[39;00m \u001b[38;5;21;01mplotly\u001b[39;00m\u001b[38;5;21;01m.\u001b[39;00m\u001b[38;5;21;01mio\u001b[39;00m \u001b[38;5;28;01mas\u001b[39;00m \u001b[38;5;21;01mpio\u001b[39;00m\n\u001b[1;32m-> 3410\u001b[0m \u001b[38;5;28;01mreturn\u001b[39;00m \u001b[43mpio\u001b[49m\u001b[38;5;241;43m.\u001b[39;49m\u001b[43mshow\u001b[49m\u001b[43m(\u001b[49m\u001b[38;5;28;43mself\u001b[39;49m\u001b[43m,\u001b[49m\u001b[43m \u001b[49m\u001b[38;5;241;43m*\u001b[39;49m\u001b[43margs\u001b[49m\u001b[43m,\u001b[49m\u001b[43m \u001b[49m\u001b[38;5;241;43m*\u001b[39;49m\u001b[38;5;241;43m*\u001b[39;49m\u001b[43mkwargs\u001b[49m\u001b[43m)\u001b[49m\n",
      "File \u001b[1;32mc:\\Users\\sonson\\Desktop\\Olympics\\.venv\\Lib\\site-packages\\plotly\\io\\_renderers.py:394\u001b[0m, in \u001b[0;36mshow\u001b[1;34m(fig, renderer, validate, **kwargs)\u001b[0m\n\u001b[0;32m    389\u001b[0m         \u001b[38;5;28;01mraise\u001b[39;00m \u001b[38;5;167;01mValueError\u001b[39;00m(\n\u001b[0;32m    390\u001b[0m             \u001b[38;5;124m\"\u001b[39m\u001b[38;5;124mMime type rendering requires ipython but it is not installed\u001b[39m\u001b[38;5;124m\"\u001b[39m\n\u001b[0;32m    391\u001b[0m         )\n\u001b[0;32m    393\u001b[0m     \u001b[38;5;28;01mif\u001b[39;00m \u001b[38;5;129;01mnot\u001b[39;00m nbformat \u001b[38;5;129;01mor\u001b[39;00m Version(nbformat\u001b[38;5;241m.\u001b[39m__version__) \u001b[38;5;241m<\u001b[39m Version(\u001b[38;5;124m\"\u001b[39m\u001b[38;5;124m4.2.0\u001b[39m\u001b[38;5;124m\"\u001b[39m):\n\u001b[1;32m--> 394\u001b[0m         \u001b[38;5;28;01mraise\u001b[39;00m \u001b[38;5;167;01mValueError\u001b[39;00m(\n\u001b[0;32m    395\u001b[0m             \u001b[38;5;124m\"\u001b[39m\u001b[38;5;124mMime type rendering requires nbformat>=4.2.0 but it is not installed\u001b[39m\u001b[38;5;124m\"\u001b[39m\n\u001b[0;32m    396\u001b[0m         )\n\u001b[0;32m    398\u001b[0m     ipython_display\u001b[38;5;241m.\u001b[39mdisplay(bundle, raw\u001b[38;5;241m=\u001b[39m\u001b[38;5;28;01mTrue\u001b[39;00m)\n\u001b[0;32m    400\u001b[0m \u001b[38;5;66;03m# external renderers\u001b[39;00m\n",
      "\u001b[1;31mValueError\u001b[0m: Mime type rendering requires nbformat>=4.2.0 but it is not installed"
     ]
    }
   ],
   "source": [
    "rg = np.arange(len(labels))\n",
    "width = 0.35\n",
    "\n",
    "fig = go.Figure()\n",
    "\n",
    "fig.add_trace(go.Bar(\n",
    "    x=rg,\n",
    "    y=RMSE_Results,\n",
    "    width=width,\n",
    "    name='RMSE'\n",
    "))\n",
    "\n",
    "fig.add_trace(go.Bar(\n",
    "    x=rg + width,\n",
    "    y=R2_Results,\n",
    "    width=width,\n",
    "    name='R2'\n",
    "))\n",
    "\n",
    "fig.update_layout(\n",
    "    title='Model Performance',\n",
    "    xaxis=dict(\n",
    "        title='Models',\n",
    "        tickvals=rg + width / 2,\n",
    "        ticktext=labels\n",
    "    ),\n",
    "    yaxis=dict(\n",
    "        title='RMSE/R2',\n",
    "        range=[0, 1]\n",
    "    ),\n",
    "    barmode='group',\n",
    "    legend=dict(\n",
    "        x=0,\n",
    "        y=1.1,\n",
    "        orientation='h'\n",
    "    )\n",
    ")\n",
    "\n",
    "fig.show()"
   ]
  }
 ],
 "metadata": {
  "kernelspec": {
   "display_name": ".venv",
   "language": "python",
   "name": "python3"
  },
  "language_info": {
   "codemirror_mode": {
    "name": "ipython",
    "version": 3
   },
   "file_extension": ".py",
   "mimetype": "text/x-python",
   "name": "python",
   "nbconvert_exporter": "python",
   "pygments_lexer": "ipython3",
   "version": "3.12.0"
  }
 },
 "nbformat": 4,
 "nbformat_minor": 2
}
